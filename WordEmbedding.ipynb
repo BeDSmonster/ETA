{
 "cells": [
  {
   "cell_type": "code",
   "execution_count": 136,
   "metadata": {},
   "outputs": [],
   "source": [
    "import pandas as pd"
   ]
  },
  {
   "cell_type": "code",
   "execution_count": 137,
   "metadata": {},
   "outputs": [],
   "source": [
    "from gensim.models import word2vec\n",
    "from sklearn.manifold import TSNE\n",
    "import plotly_express as px"
   ]
  },
  {
   "cell_type": "code",
   "execution_count": 146,
   "metadata": {},
   "outputs": [],
   "source": [
    "LIB = pd.read_csv('/home/yk4we/ETA_final.LIB.csv')\n",
    "DOC = pd.read_csv('/home/yk4we/ETA_final.DOC.csv')\n",
    "TOKEN = pd.read_csv('/home/yk4we/ETA_final.TOKEN.csv')\n",
    "VOCAB = pd.read_csv('/home/yk4we/ETA_final.VOCAB.csv')"
   ]
  },
  {
   "cell_type": "code",
   "execution_count": 151,
   "metadata": {},
   "outputs": [],
   "source": [
    "#remove stop words\n",
    "VOCAB = VOCAB.loc[VOCAB.stop == 0]"
   ]
  },
  {
   "cell_type": "code",
   "execution_count": 155,
   "metadata": {},
   "outputs": [],
   "source": [
    "#remove stop words from TOKEN table\n",
    "TOKEN = TOKEN.loc[TOKEN.term_id.isin(VOCAB.term_id)]"
   ]
  },
  {
   "cell_type": "code",
   "execution_count": 156,
   "metadata": {},
   "outputs": [],
   "source": [
    "powerline = LIB.loc[LIB.doc_source.str.contains('PowerLine')].doc_id.to_list()\n",
    "daily = LIB.loc[LIB.doc_source.str.contains('Daily')].doc_id.to_list()"
   ]
  },
  {
   "cell_type": "code",
   "execution_count": 157,
   "metadata": {},
   "outputs": [],
   "source": [
    "TOKEN_powerline = TOKEN.loc[TOKEN.doc_id.isin(powerline)]\n",
    "TOKEN_daily= TOKEN.loc[TOKEN.doc_id.isin(daily)]"
   ]
  },
  {
   "cell_type": "code",
   "execution_count": 158,
   "metadata": {},
   "outputs": [
    {
     "name": "stderr",
     "output_type": "stream",
     "text": [
      "/apps/software/standard/compiler/gcc/7.1.0/jupyter_conda/2019.10-py3.7/lib/python3.7/site-packages/ipykernel_launcher.py:1: SettingWithCopyWarning:\n",
      "\n",
      "\n",
      "A value is trying to be set on a copy of a slice from a DataFrame.\n",
      "Try using .loc[row_indexer,col_indexer] = value instead\n",
      "\n",
      "See the caveats in the documentation: https://pandas.pydata.org/pandas-docs/stable/user_guide/indexing.html#returning-a-view-versus-a-copy\n",
      "\n",
      "/apps/software/standard/compiler/gcc/7.1.0/jupyter_conda/2019.10-py3.7/lib/python3.7/site-packages/ipykernel_launcher.py:2: SettingWithCopyWarning:\n",
      "\n",
      "\n",
      "A value is trying to be set on a copy of a slice from a DataFrame.\n",
      "Try using .loc[row_indexer,col_indexer] = value instead\n",
      "\n",
      "See the caveats in the documentation: https://pandas.pydata.org/pandas-docs/stable/user_guide/indexing.html#returning-a-view-versus-a-copy\n",
      "\n"
     ]
    }
   ],
   "source": [
    "TOKEN_powerline['source'] = 'powerline'\n",
    "TOKEN_daily['source'] = 'daily'"
   ]
  },
  {
   "cell_type": "code",
   "execution_count": 159,
   "metadata": {},
   "outputs": [
    {
     "name": "stderr",
     "output_type": "stream",
     "text": [
      "/apps/software/standard/compiler/gcc/7.1.0/jupyter_conda/2019.10-py3.7/lib/python3.7/site-packages/ipykernel_launcher.py:1: SettingWithCopyWarning:\n",
      "\n",
      "\n",
      "A value is trying to be set on a copy of a slice from a DataFrame.\n",
      "Try using .loc[row_indexer,col_indexer] = value instead\n",
      "\n",
      "See the caveats in the documentation: https://pandas.pydata.org/pandas-docs/stable/user_guide/indexing.html#returning-a-view-versus-a-copy\n",
      "\n",
      "/apps/software/standard/compiler/gcc/7.1.0/jupyter_conda/2019.10-py3.7/lib/python3.7/site-packages/ipykernel_launcher.py:2: SettingWithCopyWarning:\n",
      "\n",
      "\n",
      "A value is trying to be set on a copy of a slice from a DataFrame.\n",
      "Try using .loc[row_indexer,col_indexer] = value instead\n",
      "\n",
      "See the caveats in the documentation: https://pandas.pydata.org/pandas-docs/stable/user_guide/indexing.html#returning-a-view-versus-a-copy\n",
      "\n"
     ]
    }
   ],
   "source": [
    "TOKEN_powerline['doc'] = TOKEN_powerline.doc_id.map(LIB.reset_index().set_index('doc_id').doc_title)\n",
    "TOKEN_daily['doc'] = TOKEN_daily.doc_id.map(LIB.reset_index().set_index('doc_id').doc_title)"
   ]
  },
  {
   "cell_type": "code",
   "execution_count": 160,
   "metadata": {},
   "outputs": [
    {
     "data": {
      "text/html": [
       "<div>\n",
       "<style scoped>\n",
       "    .dataframe tbody tr th:only-of-type {\n",
       "        vertical-align: middle;\n",
       "    }\n",
       "\n",
       "    .dataframe tbody tr th {\n",
       "        vertical-align: top;\n",
       "    }\n",
       "\n",
       "    .dataframe thead th {\n",
       "        text-align: right;\n",
       "    }\n",
       "</style>\n",
       "<table border=\"1\" class=\"dataframe\">\n",
       "  <thead>\n",
       "    <tr style=\"text-align: right;\">\n",
       "      <th></th>\n",
       "      <th>doc_id</th>\n",
       "      <th>sent_num</th>\n",
       "      <th>token_num</th>\n",
       "      <th>pos_tuple</th>\n",
       "      <th>pos</th>\n",
       "      <th>token_str</th>\n",
       "      <th>term_str</th>\n",
       "      <th>term_id</th>\n",
       "      <th>source</th>\n",
       "      <th>doc</th>\n",
       "    </tr>\n",
       "  </thead>\n",
       "  <tbody>\n",
       "    <tr>\n",
       "      <th>8586601</th>\n",
       "      <td>1026333</td>\n",
       "      <td>17</td>\n",
       "      <td>17</td>\n",
       "      <td>('billions', 'NNS')</td>\n",
       "      <td>NNS</td>\n",
       "      <td>billions</td>\n",
       "      <td>billions</td>\n",
       "      <td>17228</td>\n",
       "      <td>powerline</td>\n",
       "      <td>Omar Slanders a Much Better Person</td>\n",
       "    </tr>\n",
       "    <tr>\n",
       "      <th>8586603</th>\n",
       "      <td>1026333</td>\n",
       "      <td>17</td>\n",
       "      <td>19</td>\n",
       "      <td>('people', 'NNS')</td>\n",
       "      <td>NNS</td>\n",
       "      <td>people</td>\n",
       "      <td>people</td>\n",
       "      <td>78439</td>\n",
       "      <td>powerline</td>\n",
       "      <td>Omar Slanders a Much Better Person</td>\n",
       "    </tr>\n",
       "    <tr>\n",
       "      <th>8586604</th>\n",
       "      <td>1026333</td>\n",
       "      <td>17</td>\n",
       "      <td>20</td>\n",
       "      <td>('represents', 'VBZ')</td>\n",
       "      <td>VBZ</td>\n",
       "      <td>represents</td>\n",
       "      <td>represents</td>\n",
       "      <td>89116</td>\n",
       "      <td>powerline</td>\n",
       "      <td>Omar Slanders a Much Better Person</td>\n",
       "    </tr>\n",
       "    <tr>\n",
       "      <th>8586606</th>\n",
       "      <td>1026333</td>\n",
       "      <td>17</td>\n",
       "      <td>22</td>\n",
       "      <td>('new', 'JJ')</td>\n",
       "      <td>JJ</td>\n",
       "      <td>new</td>\n",
       "      <td>new</td>\n",
       "      <td>71385</td>\n",
       "      <td>powerline</td>\n",
       "      <td>Omar Slanders a Much Better Person</td>\n",
       "    </tr>\n",
       "    <tr>\n",
       "      <th>8586607</th>\n",
       "      <td>1026333</td>\n",
       "      <td>17</td>\n",
       "      <td>23</td>\n",
       "      <td>('low', 'JJ')</td>\n",
       "      <td>JJ</td>\n",
       "      <td>low</td>\n",
       "      <td>low</td>\n",
       "      <td>63296</td>\n",
       "      <td>powerline</td>\n",
       "      <td>Omar Slanders a Much Better Person</td>\n",
       "    </tr>\n",
       "  </tbody>\n",
       "</table>\n",
       "</div>"
      ],
      "text/plain": [
       "          doc_id  sent_num  token_num              pos_tuple  pos   token_str  \\\n",
       "8586601  1026333        17         17    ('billions', 'NNS')  NNS    billions   \n",
       "8586603  1026333        17         19      ('people', 'NNS')  NNS      people   \n",
       "8586604  1026333        17         20  ('represents', 'VBZ')  VBZ  represents   \n",
       "8586606  1026333        17         22          ('new', 'JJ')   JJ         new   \n",
       "8586607  1026333        17         23          ('low', 'JJ')   JJ         low   \n",
       "\n",
       "           term_str  term_id     source                                 doc  \n",
       "8586601    billions    17228  powerline  Omar Slanders a Much Better Person  \n",
       "8586603      people    78439  powerline  Omar Slanders a Much Better Person  \n",
       "8586604  represents    89116  powerline  Omar Slanders a Much Better Person  \n",
       "8586606         new    71385  powerline  Omar Slanders a Much Better Person  \n",
       "8586607         low    63296  powerline  Omar Slanders a Much Better Person  "
      ]
     },
     "execution_count": 160,
     "metadata": {},
     "output_type": "execute_result"
    }
   ],
   "source": [
    "TOKEN_powerline.tail()"
   ]
  },
  {
   "cell_type": "code",
   "execution_count": 161,
   "metadata": {},
   "outputs": [
    {
     "data": {
      "text/html": [
       "<div>\n",
       "<style scoped>\n",
       "    .dataframe tbody tr th:only-of-type {\n",
       "        vertical-align: middle;\n",
       "    }\n",
       "\n",
       "    .dataframe tbody tr th {\n",
       "        vertical-align: top;\n",
       "    }\n",
       "\n",
       "    .dataframe thead th {\n",
       "        text-align: right;\n",
       "    }\n",
       "</style>\n",
       "<table border=\"1\" class=\"dataframe\">\n",
       "  <thead>\n",
       "    <tr style=\"text-align: right;\">\n",
       "      <th></th>\n",
       "      <th>doc_id</th>\n",
       "      <th>sent_num</th>\n",
       "      <th>token_num</th>\n",
       "      <th>pos_tuple</th>\n",
       "      <th>pos</th>\n",
       "      <th>token_str</th>\n",
       "      <th>term_str</th>\n",
       "      <th>term_id</th>\n",
       "      <th>source</th>\n",
       "      <th>doc</th>\n",
       "    </tr>\n",
       "  </thead>\n",
       "  <tbody>\n",
       "    <tr>\n",
       "      <th>1588</th>\n",
       "      <td>96</td>\n",
       "      <td>0</td>\n",
       "      <td>0</td>\n",
       "      <td>('Income', 'NNP')</td>\n",
       "      <td>NNP</td>\n",
       "      <td>Income</td>\n",
       "      <td>income</td>\n",
       "      <td>53898</td>\n",
       "      <td>daily</td>\n",
       "      <td>Obama has done nothing to address income inequ...</td>\n",
       "    </tr>\n",
       "    <tr>\n",
       "      <th>1590</th>\n",
       "      <td>96</td>\n",
       "      <td>0</td>\n",
       "      <td>2</td>\n",
       "      <td>('wealth', 'NN')</td>\n",
       "      <td>NN</td>\n",
       "      <td>wealth</td>\n",
       "      <td>wealth</td>\n",
       "      <td>114955</td>\n",
       "      <td>daily</td>\n",
       "      <td>Obama has done nothing to address income inequ...</td>\n",
       "    </tr>\n",
       "    <tr>\n",
       "      <th>1591</th>\n",
       "      <td>96</td>\n",
       "      <td>0</td>\n",
       "      <td>3</td>\n",
       "      <td>('inequality', 'NN')</td>\n",
       "      <td>NN</td>\n",
       "      <td>inequality</td>\n",
       "      <td>inequality</td>\n",
       "      <td>54305</td>\n",
       "      <td>daily</td>\n",
       "      <td>Obama has done nothing to address income inequ...</td>\n",
       "    </tr>\n",
       "    <tr>\n",
       "      <th>1594</th>\n",
       "      <td>96</td>\n",
       "      <td>0</td>\n",
       "      <td>6</td>\n",
       "      <td>('festering', 'VBG')</td>\n",
       "      <td>VBG</td>\n",
       "      <td>festering</td>\n",
       "      <td>festering</td>\n",
       "      <td>41492</td>\n",
       "      <td>daily</td>\n",
       "      <td>Obama has done nothing to address income inequ...</td>\n",
       "    </tr>\n",
       "    <tr>\n",
       "      <th>1595</th>\n",
       "      <td>96</td>\n",
       "      <td>0</td>\n",
       "      <td>7</td>\n",
       "      <td>('wound', 'NN')</td>\n",
       "      <td>NN</td>\n",
       "      <td>wound</td>\n",
       "      <td>wound</td>\n",
       "      <td>117290</td>\n",
       "      <td>daily</td>\n",
       "      <td>Obama has done nothing to address income inequ...</td>\n",
       "    </tr>\n",
       "  </tbody>\n",
       "</table>\n",
       "</div>"
      ],
      "text/plain": [
       "      doc_id  sent_num  token_num             pos_tuple  pos   token_str  \\\n",
       "1588      96         0          0     ('Income', 'NNP')  NNP      Income   \n",
       "1590      96         0          2      ('wealth', 'NN')   NN      wealth   \n",
       "1591      96         0          3  ('inequality', 'NN')   NN  inequality   \n",
       "1594      96         0          6  ('festering', 'VBG')  VBG   festering   \n",
       "1595      96         0          7       ('wound', 'NN')   NN       wound   \n",
       "\n",
       "        term_str  term_id source  \\\n",
       "1588      income    53898  daily   \n",
       "1590      wealth   114955  daily   \n",
       "1591  inequality    54305  daily   \n",
       "1594   festering    41492  daily   \n",
       "1595       wound   117290  daily   \n",
       "\n",
       "                                                    doc  \n",
       "1588  Obama has done nothing to address income inequ...  \n",
       "1590  Obama has done nothing to address income inequ...  \n",
       "1591  Obama has done nothing to address income inequ...  \n",
       "1594  Obama has done nothing to address income inequ...  \n",
       "1595  Obama has done nothing to address income inequ...  "
      ]
     },
     "execution_count": 161,
     "metadata": {},
     "output_type": "execute_result"
    }
   ],
   "source": [
    "TOKEN_daily.head()"
   ]
  },
  {
   "cell_type": "code",
   "execution_count": 162,
   "metadata": {},
   "outputs": [],
   "source": [
    "OHCO = ['source','doc', 'sent_num', 'token_num']\n",
    "BAG = OHCO[:1] # Sentence"
   ]
  },
  {
   "cell_type": "code",
   "execution_count": 163,
   "metadata": {},
   "outputs": [],
   "source": [
    "TOKEN_powerline = TOKEN_powerline.set_index(OHCO)\n",
    "TOKEN_daily = TOKEN_daily.set_index(OHCO)"
   ]
  },
  {
   "cell_type": "code",
   "execution_count": 164,
   "metadata": {},
   "outputs": [],
   "source": [
    " #remove proper noun, plural\n",
    "corpus_powerline = TOKEN_powerline [~TOKEN_powerline .pos.str.match('NNPS?')]\\\n",
    "    .groupby(BAG)\\\n",
    "    .term_str.apply(lambda  x:  x.astype(str).tolist())\\\n",
    "    .reset_index()['term_str'].tolist()"
   ]
  },
  {
   "cell_type": "code",
   "execution_count": 165,
   "metadata": {},
   "outputs": [],
   "source": [
    "corpus_daily = TOKEN_daily[~TOKEN_daily.pos.str.match('NNPS?')]\\\n",
    "    .groupby(BAG)\\\n",
    "    .term_str.apply(lambda  x:  x.tolist())\\\n",
    "    .reset_index()['term_str'].tolist()"
   ]
  },
  {
   "cell_type": "markdown",
   "metadata": {},
   "source": [
    "## Generate Word Embeddings wigh Gensim's Library"
   ]
  },
  {
   "cell_type": "code",
   "execution_count": 166,
   "metadata": {},
   "outputs": [],
   "source": [
    "window = 5"
   ]
  },
  {
   "cell_type": "code",
   "execution_count": 167,
   "metadata": {},
   "outputs": [],
   "source": [
    "model_powerline = word2vec.Word2Vec(corpus_powerline, size=246, window=window, min_count=200, workers=4)"
   ]
  },
  {
   "cell_type": "code",
   "execution_count": 168,
   "metadata": {},
   "outputs": [],
   "source": [
    "model_daily = word2vec.Word2Vec(corpus_daily, size=246, window=window, min_count=200, workers=4)"
   ]
  },
  {
   "cell_type": "markdown",
   "metadata": {},
   "source": [
    "### Visualize with tSNE"
   ]
  },
  {
   "cell_type": "markdown",
   "metadata": {},
   "source": [
    "#### Generate coordinate to Plot"
   ]
  },
  {
   "cell_type": "code",
   "execution_count": 169,
   "metadata": {},
   "outputs": [],
   "source": [
    "coords_powerline = pd.DataFrame(index=range(len(model_powerline.wv.vocab)))\n",
    "coords_powerline['label'] = [w for w in model_powerline.wv.vocab]\n",
    "coords_powerline['vector'] = coords_powerline['label'].apply(lambda x: model_powerline.wv.get_vector(x))"
   ]
  },
  {
   "cell_type": "code",
   "execution_count": 170,
   "metadata": {},
   "outputs": [
    {
     "data": {
      "text/html": [
       "<div>\n",
       "<style scoped>\n",
       "    .dataframe tbody tr th:only-of-type {\n",
       "        vertical-align: middle;\n",
       "    }\n",
       "\n",
       "    .dataframe tbody tr th {\n",
       "        vertical-align: top;\n",
       "    }\n",
       "\n",
       "    .dataframe thead th {\n",
       "        text-align: right;\n",
       "    }\n",
       "</style>\n",
       "<table border=\"1\" class=\"dataframe\">\n",
       "  <thead>\n",
       "    <tr style=\"text-align: right;\">\n",
       "      <th></th>\n",
       "      <th>label</th>\n",
       "      <th>vector</th>\n",
       "    </tr>\n",
       "  </thead>\n",
       "  <tbody>\n",
       "    <tr>\n",
       "      <th>0</th>\n",
       "      <td>behind</td>\n",
       "      <td>[-0.001130699, 0.0021639834, 0.0018210007, 0.0...</td>\n",
       "    </tr>\n",
       "    <tr>\n",
       "      <th>1</th>\n",
       "      <td>many</td>\n",
       "      <td>[-0.0031521257, 0.0034727799, -0.00054585165, ...</td>\n",
       "    </tr>\n",
       "    <tr>\n",
       "      <th>2</th>\n",
       "      <td>regular</td>\n",
       "      <td>[0.0010632193, 0.0013396019, 6.475637e-05, 0.0...</td>\n",
       "    </tr>\n",
       "    <tr>\n",
       "      <th>3</th>\n",
       "      <td>days</td>\n",
       "      <td>[-2.2584078e-05, 0.00045350654, -0.0010550807,...</td>\n",
       "    </tr>\n",
       "    <tr>\n",
       "      <th>4</th>\n",
       "      <td>among</td>\n",
       "      <td>[-0.0009490203, 0.0010769675, 0.0019000672, 0....</td>\n",
       "    </tr>\n",
       "  </tbody>\n",
       "</table>\n",
       "</div>"
      ],
      "text/plain": [
       "     label                                             vector\n",
       "0   behind  [-0.001130699, 0.0021639834, 0.0018210007, 0.0...\n",
       "1     many  [-0.0031521257, 0.0034727799, -0.00054585165, ...\n",
       "2  regular  [0.0010632193, 0.0013396019, 6.475637e-05, 0.0...\n",
       "3     days  [-2.2584078e-05, 0.00045350654, -0.0010550807,...\n",
       "4    among  [-0.0009490203, 0.0010769675, 0.0019000672, 0...."
      ]
     },
     "execution_count": 170,
     "metadata": {},
     "output_type": "execute_result"
    }
   ],
   "source": [
    "coords_powerline.head()"
   ]
  },
  {
   "cell_type": "code",
   "execution_count": 171,
   "metadata": {},
   "outputs": [],
   "source": [
    "coords_daily = pd.DataFrame(index=range(len(model_daily.wv.vocab)))\n",
    "coords_daily['label'] = [w for w in model_daily.wv.vocab]\n",
    "coords_daily['vector'] = coords_daily['label'].apply(lambda x: model_daily.wv.get_vector(x))"
   ]
  },
  {
   "cell_type": "code",
   "execution_count": 172,
   "metadata": {},
   "outputs": [
    {
     "data": {
      "text/html": [
       "<div>\n",
       "<style scoped>\n",
       "    .dataframe tbody tr th:only-of-type {\n",
       "        vertical-align: middle;\n",
       "    }\n",
       "\n",
       "    .dataframe tbody tr th {\n",
       "        vertical-align: top;\n",
       "    }\n",
       "\n",
       "    .dataframe thead th {\n",
       "        text-align: right;\n",
       "    }\n",
       "</style>\n",
       "<table border=\"1\" class=\"dataframe\">\n",
       "  <thead>\n",
       "    <tr style=\"text-align: right;\">\n",
       "      <th></th>\n",
       "      <th>label</th>\n",
       "      <th>vector</th>\n",
       "    </tr>\n",
       "  </thead>\n",
       "  <tbody>\n",
       "    <tr>\n",
       "      <th>0</th>\n",
       "      <td>wealth</td>\n",
       "      <td>[-0.00051380374, 0.0008119143, -0.00050975726,...</td>\n",
       "    </tr>\n",
       "    <tr>\n",
       "      <th>1</th>\n",
       "      <td>society</td>\n",
       "      <td>[0.00074736314, 0.0013763912, 0.0014489185, 0....</td>\n",
       "    </tr>\n",
       "    <tr>\n",
       "      <th>2</th>\n",
       "      <td>worse</td>\n",
       "      <td>[-0.00017124719, 0.00039373385, 0.0002663248, ...</td>\n",
       "    </tr>\n",
       "    <tr>\n",
       "      <th>3</th>\n",
       "      <td>past</td>\n",
       "      <td>[-0.0042202845, -0.00059243705, 0.0011397752, ...</td>\n",
       "    </tr>\n",
       "    <tr>\n",
       "      <th>4</th>\n",
       "      <td>five</td>\n",
       "      <td>[-0.00034998584, 0.00033491416, 0.0013233055, ...</td>\n",
       "    </tr>\n",
       "  </tbody>\n",
       "</table>\n",
       "</div>"
      ],
      "text/plain": [
       "     label                                             vector\n",
       "0   wealth  [-0.00051380374, 0.0008119143, -0.00050975726,...\n",
       "1  society  [0.00074736314, 0.0013763912, 0.0014489185, 0....\n",
       "2    worse  [-0.00017124719, 0.00039373385, 0.0002663248, ...\n",
       "3     past  [-0.0042202845, -0.00059243705, 0.0011397752, ...\n",
       "4     five  [-0.00034998584, 0.00033491416, 0.0013233055, ..."
      ]
     },
     "execution_count": 172,
     "metadata": {},
     "output_type": "execute_result"
    }
   ],
   "source": [
    "coords_daily.head()"
   ]
  },
  {
   "cell_type": "markdown",
   "metadata": {},
   "source": [
    "#### Use Scikit-learn's TSNE library"
   ]
  },
  {
   "cell_type": "code",
   "execution_count": 173,
   "metadata": {},
   "outputs": [],
   "source": [
    "tsne_model_powerline = TSNE(perplexity=40, n_components=2, init='pca', n_iter=2500, random_state=23)\n",
    "tsne_values_powerline = tsne_model_powerline.fit_transform(coords_powerline['vector'].tolist())"
   ]
  },
  {
   "cell_type": "code",
   "execution_count": 174,
   "metadata": {},
   "outputs": [],
   "source": [
    "coords_powerline['x'] = tsne_values_powerline[:,0]\n",
    "coords_powerline['y'] = tsne_values_powerline[:,1]"
   ]
  },
  {
   "cell_type": "code",
   "execution_count": 175,
   "metadata": {},
   "outputs": [
    {
     "data": {
      "text/html": [
       "<div>\n",
       "<style scoped>\n",
       "    .dataframe tbody tr th:only-of-type {\n",
       "        vertical-align: middle;\n",
       "    }\n",
       "\n",
       "    .dataframe tbody tr th {\n",
       "        vertical-align: top;\n",
       "    }\n",
       "\n",
       "    .dataframe thead th {\n",
       "        text-align: right;\n",
       "    }\n",
       "</style>\n",
       "<table border=\"1\" class=\"dataframe\">\n",
       "  <thead>\n",
       "    <tr style=\"text-align: right;\">\n",
       "      <th></th>\n",
       "      <th>label</th>\n",
       "      <th>vector</th>\n",
       "      <th>x</th>\n",
       "      <th>y</th>\n",
       "    </tr>\n",
       "  </thead>\n",
       "  <tbody>\n",
       "    <tr>\n",
       "      <th>0</th>\n",
       "      <td>behind</td>\n",
       "      <td>[-0.001130699, 0.0021639834, 0.0018210007, 0.0...</td>\n",
       "      <td>40.366013</td>\n",
       "      <td>0.079792</td>\n",
       "    </tr>\n",
       "    <tr>\n",
       "      <th>1</th>\n",
       "      <td>many</td>\n",
       "      <td>[-0.0031521257, 0.0034727799, -0.00054585165, ...</td>\n",
       "      <td>53.649952</td>\n",
       "      <td>-3.910273</td>\n",
       "    </tr>\n",
       "    <tr>\n",
       "      <th>2</th>\n",
       "      <td>regular</td>\n",
       "      <td>[0.0010632193, 0.0013396019, 6.475637e-05, 0.0...</td>\n",
       "      <td>-9.228317</td>\n",
       "      <td>8.140360</td>\n",
       "    </tr>\n",
       "    <tr>\n",
       "      <th>3</th>\n",
       "      <td>days</td>\n",
       "      <td>[-2.2584078e-05, 0.00045350654, -0.0010550807,...</td>\n",
       "      <td>39.829773</td>\n",
       "      <td>-3.928443</td>\n",
       "    </tr>\n",
       "    <tr>\n",
       "      <th>4</th>\n",
       "      <td>among</td>\n",
       "      <td>[-0.0009490203, 0.0010769675, 0.0019000672, 0....</td>\n",
       "      <td>34.011681</td>\n",
       "      <td>-10.588156</td>\n",
       "    </tr>\n",
       "  </tbody>\n",
       "</table>\n",
       "</div>"
      ],
      "text/plain": [
       "     label                                             vector          x  \\\n",
       "0   behind  [-0.001130699, 0.0021639834, 0.0018210007, 0.0...  40.366013   \n",
       "1     many  [-0.0031521257, 0.0034727799, -0.00054585165, ...  53.649952   \n",
       "2  regular  [0.0010632193, 0.0013396019, 6.475637e-05, 0.0...  -9.228317   \n",
       "3     days  [-2.2584078e-05, 0.00045350654, -0.0010550807,...  39.829773   \n",
       "4    among  [-0.0009490203, 0.0010769675, 0.0019000672, 0....  34.011681   \n",
       "\n",
       "           y  \n",
       "0   0.079792  \n",
       "1  -3.910273  \n",
       "2   8.140360  \n",
       "3  -3.928443  \n",
       "4 -10.588156  "
      ]
     },
     "execution_count": 175,
     "metadata": {},
     "output_type": "execute_result"
    }
   ],
   "source": [
    "coords_powerline.head()"
   ]
  },
  {
   "cell_type": "code",
   "execution_count": 176,
   "metadata": {},
   "outputs": [],
   "source": [
    "tsne_model_daily = TSNE(perplexity=40, n_components=2, init='pca', n_iter=2500, random_state=23)\n",
    "tsne_values_daily = tsne_model_daily.fit_transform(coords_daily['vector'].tolist())"
   ]
  },
  {
   "cell_type": "code",
   "execution_count": 177,
   "metadata": {},
   "outputs": [],
   "source": [
    "coords_daily['x'] = tsne_values_daily[:,0]\n",
    "coords_daily['y'] = tsne_values_daily[:,1]"
   ]
  },
  {
   "cell_type": "code",
   "execution_count": 178,
   "metadata": {},
   "outputs": [
    {
     "data": {
      "text/html": [
       "<div>\n",
       "<style scoped>\n",
       "    .dataframe tbody tr th:only-of-type {\n",
       "        vertical-align: middle;\n",
       "    }\n",
       "\n",
       "    .dataframe tbody tr th {\n",
       "        vertical-align: top;\n",
       "    }\n",
       "\n",
       "    .dataframe thead th {\n",
       "        text-align: right;\n",
       "    }\n",
       "</style>\n",
       "<table border=\"1\" class=\"dataframe\">\n",
       "  <thead>\n",
       "    <tr style=\"text-align: right;\">\n",
       "      <th></th>\n",
       "      <th>label</th>\n",
       "      <th>vector</th>\n",
       "      <th>x</th>\n",
       "      <th>y</th>\n",
       "    </tr>\n",
       "  </thead>\n",
       "  <tbody>\n",
       "    <tr>\n",
       "      <th>0</th>\n",
       "      <td>wealth</td>\n",
       "      <td>[-0.00051380374, 0.0008119143, -0.00050975726,...</td>\n",
       "      <td>15.579317</td>\n",
       "      <td>-4.409695</td>\n",
       "    </tr>\n",
       "    <tr>\n",
       "      <th>1</th>\n",
       "      <td>society</td>\n",
       "      <td>[0.00074736314, 0.0013763912, 0.0014489185, 0....</td>\n",
       "      <td>-16.863220</td>\n",
       "      <td>-4.485227</td>\n",
       "    </tr>\n",
       "    <tr>\n",
       "      <th>2</th>\n",
       "      <td>worse</td>\n",
       "      <td>[-0.00017124719, 0.00039373385, 0.0002663248, ...</td>\n",
       "      <td>-9.262919</td>\n",
       "      <td>3.558114</td>\n",
       "    </tr>\n",
       "    <tr>\n",
       "      <th>3</th>\n",
       "      <td>past</td>\n",
       "      <td>[-0.0042202845, -0.00059243705, 0.0011397752, ...</td>\n",
       "      <td>51.892834</td>\n",
       "      <td>0.604571</td>\n",
       "    </tr>\n",
       "    <tr>\n",
       "      <th>4</th>\n",
       "      <td>five</td>\n",
       "      <td>[-0.00034998584, 0.00033491416, 0.0013233055, ...</td>\n",
       "      <td>4.927863</td>\n",
       "      <td>17.844521</td>\n",
       "    </tr>\n",
       "  </tbody>\n",
       "</table>\n",
       "</div>"
      ],
      "text/plain": [
       "     label                                             vector          x  \\\n",
       "0   wealth  [-0.00051380374, 0.0008119143, -0.00050975726,...  15.579317   \n",
       "1  society  [0.00074736314, 0.0013763912, 0.0014489185, 0.... -16.863220   \n",
       "2    worse  [-0.00017124719, 0.00039373385, 0.0002663248, ...  -9.262919   \n",
       "3     past  [-0.0042202845, -0.00059243705, 0.0011397752, ...  51.892834   \n",
       "4     five  [-0.00034998584, 0.00033491416, 0.0013233055, ...   4.927863   \n",
       "\n",
       "           y  \n",
       "0  -4.409695  \n",
       "1  -4.485227  \n",
       "2   3.558114  \n",
       "3   0.604571  \n",
       "4  17.844521  "
      ]
     },
     "execution_count": 178,
     "metadata": {},
     "output_type": "execute_result"
    }
   ],
   "source": [
    "coords_daily.head()"
   ]
  },
  {
   "cell_type": "markdown",
   "metadata": {},
   "source": [
    "#### Plot Coordinates"
   ]
  },
  {
   "cell_type": "code",
   "execution_count": 179,
   "metadata": {},
   "outputs": [],
   "source": [
    "fig = px.scatter(coords_powerline, 'x', 'y', text='label', height=1000).update_traces(mode='text')"
   ]
  },
  {
   "cell_type": "code",
   "execution_count": 180,
   "metadata": {},
   "outputs": [],
   "source": [
    "fig.write_html(\"/home/yk4we/ETA_final/fig_powerline.html\")"
   ]
  },
  {
   "cell_type": "markdown",
   "metadata": {},
   "source": [
    "## Semantic Algebra"
   ]
  },
  {
   "cell_type": "markdown",
   "metadata": {},
   "source": [
    "### Analogy\n",
    "\n",
    "$A : B :: C : D? \\rightarrow B - A + C = D$"
   ]
  },
  {
   "cell_type": "code",
   "execution_count": 181,
   "metadata": {},
   "outputs": [],
   "source": [
    "def complete_analogy_powerline(A, B, C, n=2):\n",
    "    try:\n",
    "        return model_powerline.wv.most_similar(positive=[B, C], negative=[A])[0:n]\n",
    "    except KeyError as e:\n",
    "        print('Error:', e)\n",
    "        return None"
   ]
  },
  {
   "cell_type": "code",
   "execution_count": 210,
   "metadata": {},
   "outputs": [
    {
     "data": {
      "text/plain": [
       "[('width', 0.35304051637649536), ('make', 0.3314433991909027)]"
      ]
     },
     "execution_count": 210,
     "metadata": {},
     "output_type": "execute_result"
    }
   ],
   "source": [
    "complete_analogy_powerline('trump', 'republican', 'candidate')"
   ]
  },
  {
   "cell_type": "code",
   "execution_count": 184,
   "metadata": {},
   "outputs": [],
   "source": [
    "def complete_analogy_daily(A, B, C, n=2):\n",
    "    try:\n",
    "        return model_daily.wv.most_similar(positive=[B, C], negative=[A])[0:n]\n",
    "    except KeyError as e:\n",
    "        print('Error:', e)\n",
    "        return None"
   ]
  },
  {
   "cell_type": "code",
   "execution_count": 204,
   "metadata": {},
   "outputs": [
    {
     "data": {
      "text/plain": [
       "[('sending', 0.2238604575395584), ('conservative', 0.20739640295505524)]"
      ]
     },
     "execution_count": 204,
     "metadata": {},
     "output_type": "execute_result"
    }
   ],
   "source": [
    "complete_analogy_daily('trump', 'trump', 'trump')"
   ]
  },
  {
   "cell_type": "code",
   "execution_count": 191,
   "metadata": {},
   "outputs": [
    {
     "data": {
      "text/plain": [
       "[('report', 0.5620759725570679),\n",
       " ('debate', 0.5468108654022217),\n",
       " ('one', 0.5462952852249146),\n",
       " ('administration', 0.5359621047973633),\n",
       " ('many', 0.5309634208679199),\n",
       " ('good', 0.5268799066543579),\n",
       " ('us', 0.5261294841766357),\n",
       " ('say', 0.5223155617713928),\n",
       " ('last', 0.5183826088905334),\n",
       " ('two', 0.5144458413124084)]"
      ]
     },
     "execution_count": 191,
     "metadata": {},
     "output_type": "execute_result"
    }
   ],
   "source": [
    "model_powerline.wv.most_similar('republican')"
   ]
  },
  {
   "cell_type": "code",
   "execution_count": 201,
   "metadata": {},
   "outputs": [
    {
     "data": {
      "text/plain": [
       "[('nt', 0.8552619814872742),\n",
       " ('percent', 0.8515831828117371),\n",
       " ('one', 0.8448664546012878),\n",
       " ('insurance', 0.8440598249435425),\n",
       " ('time', 0.8435603380203247),\n",
       " ('food', 0.843031644821167),\n",
       " ('support', 0.8411489725112915),\n",
       " ('even', 0.8399174213409424),\n",
       " ('coverage', 0.8389263153076172),\n",
       " ('health', 0.8385680317878723)]"
      ]
     },
     "execution_count": 201,
     "metadata": {},
     "output_type": "execute_result"
    }
   ],
   "source": [
    "model_daily.wv.most_similar('republican')"
   ]
  },
  {
   "cell_type": "code",
   "execution_count": null,
   "metadata": {},
   "outputs": [],
   "source": []
  }
 ],
 "metadata": {
  "kernelspec": {
   "display_name": "Python 3",
   "language": "python",
   "name": "python3"
  },
  "language_info": {
   "codemirror_mode": {
    "name": "ipython",
    "version": 3
   },
   "file_extension": ".py",
   "mimetype": "text/x-python",
   "name": "python",
   "nbconvert_exporter": "python",
   "pygments_lexer": "ipython3",
   "version": "3.7.4"
  }
 },
 "nbformat": 4,
 "nbformat_minor": 4
}
